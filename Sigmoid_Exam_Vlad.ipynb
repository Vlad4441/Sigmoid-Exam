{
  "nbformat": 4,
  "nbformat_minor": 0,
  "metadata": {
    "colab": {
      "provenance": [],
      "authorship_tag": "ABX9TyPvrZKGYO5qPC8VMqB/9jdO",
      "include_colab_link": true
    },
    "kernelspec": {
      "name": "python3",
      "display_name": "Python 3"
    },
    "language_info": {
      "name": "python"
    }
  },
  "cells": [
    {
      "cell_type": "markdown",
      "metadata": {
        "id": "view-in-github",
        "colab_type": "text"
      },
      "source": [
        "<a href=\"https://colab.research.google.com/github/Vlad4441/Sigmoid-Exam/blob/main/Sigmoid_Exam_Vlad.ipynb\" target=\"_parent\"><img src=\"https://colab.research.google.com/assets/colab-badge.svg\" alt=\"Open In Colab\"/></a>"
      ]
    },
    {
      "cell_type": "markdown",
      "source": [
        "Hey ! Thank you for the journey, it was great! Only beggining tho :)"
      ],
      "metadata": {
        "id": "fb4I4Y5EM6tF"
      }
    },
    {
      "cell_type": "code",
      "source": [
        "from google.colab import drive\n",
        "drive.mount('/content/drive')"
      ],
      "metadata": {
        "colab": {
          "base_uri": "https://localhost:8080/"
        },
        "id": "cVuwJq8diIgJ",
        "outputId": "d9da819b-6eb4-49b1-cc06-8e284acf9c15"
      },
      "execution_count": 250,
      "outputs": [
        {
          "output_type": "stream",
          "name": "stdout",
          "text": [
            "Drive already mounted at /content/drive; to attempt to forcibly remount, call drive.mount(\"/content/drive\", force_remount=True).\n"
          ]
        }
      ]
    },
    {
      "cell_type": "code",
      "source": [
        "import pandas as pd\n",
        "import numpy as np\n",
        "import matplotlib.pyplot as plt"
      ],
      "metadata": {
        "id": "Ecf78DVghydM"
      },
      "execution_count": 251,
      "outputs": []
    },
    {
      "cell_type": "code",
      "source": [
        "!pip install imperio"
      ],
      "metadata": {
        "colab": {
          "base_uri": "https://localhost:8080/"
        },
        "id": "xaW4dS1QfCZs",
        "outputId": "1be34c20-aec2-4e98-86f3-19b2850efaa0"
      },
      "execution_count": 252,
      "outputs": [
        {
          "output_type": "stream",
          "name": "stdout",
          "text": [
            "Looking in indexes: https://pypi.org/simple, https://us-python.pkg.dev/colab-wheels/public/simple/\n",
            "Requirement already satisfied: imperio in /usr/local/lib/python3.8/dist-packages (0.1.3)\n",
            "Requirement already satisfied: pandas in /usr/local/lib/python3.8/dist-packages (from imperio) (1.3.5)\n",
            "Requirement already satisfied: numpy in /usr/local/lib/python3.8/dist-packages (from imperio) (1.21.6)\n",
            "Requirement already satisfied: scikit-learn in /usr/local/lib/python3.8/dist-packages (from imperio) (1.0.2)\n",
            "Requirement already satisfied: python-dateutil>=2.7.3 in /usr/local/lib/python3.8/dist-packages (from pandas->imperio) (2.8.2)\n",
            "Requirement already satisfied: pytz>=2017.3 in /usr/local/lib/python3.8/dist-packages (from pandas->imperio) (2022.7)\n",
            "Requirement already satisfied: scipy>=1.1.0 in /usr/local/lib/python3.8/dist-packages (from scikit-learn->imperio) (1.7.3)\n",
            "Requirement already satisfied: joblib>=0.11 in /usr/local/lib/python3.8/dist-packages (from scikit-learn->imperio) (1.2.0)\n",
            "Requirement already satisfied: threadpoolctl>=2.0.0 in /usr/local/lib/python3.8/dist-packages (from scikit-learn->imperio) (3.1.0)\n",
            "Requirement already satisfied: six>=1.5 in /usr/local/lib/python3.8/dist-packages (from python-dateutil>=2.7.3->pandas->imperio) (1.15.0)\n"
          ]
        }
      ]
    },
    {
      "cell_type": "code",
      "source": [
        "!pip install kydavra"
      ],
      "metadata": {
        "colab": {
          "base_uri": "https://localhost:8080/"
        },
        "id": "YYEDTQozfLRu",
        "outputId": "0e996fbc-1eeb-4df8-8dbb-123368ffe975"
      },
      "execution_count": 253,
      "outputs": [
        {
          "output_type": "stream",
          "name": "stdout",
          "text": [
            "Looking in indexes: https://pypi.org/simple, https://us-python.pkg.dev/colab-wheels/public/simple/\n",
            "Requirement already satisfied: kydavra in /usr/local/lib/python3.8/dist-packages (0.3.1)\n",
            "Requirement already satisfied: pandas in /usr/local/lib/python3.8/dist-packages (from kydavra) (1.3.5)\n",
            "Requirement already satisfied: statsmodels in /usr/local/lib/python3.8/dist-packages (from kydavra) (0.12.2)\n",
            "Requirement already satisfied: matplotlib in /usr/local/lib/python3.8/dist-packages (from kydavra) (3.2.2)\n",
            "Requirement already satisfied: scikit-learn in /usr/local/lib/python3.8/dist-packages (from kydavra) (1.0.2)\n",
            "Requirement already satisfied: numpy in /usr/local/lib/python3.8/dist-packages (from kydavra) (1.21.6)\n",
            "Requirement already satisfied: phik in /usr/local/lib/python3.8/dist-packages (from kydavra) (0.12.3)\n",
            "Requirement already satisfied: seaborn in /usr/local/lib/python3.8/dist-packages (from kydavra) (0.11.2)\n",
            "Requirement already satisfied: kiwisolver>=1.0.1 in /usr/local/lib/python3.8/dist-packages (from matplotlib->kydavra) (1.4.4)\n",
            "Requirement already satisfied: pyparsing!=2.0.4,!=2.1.2,!=2.1.6,>=2.0.1 in /usr/local/lib/python3.8/dist-packages (from matplotlib->kydavra) (3.0.9)\n",
            "Requirement already satisfied: cycler>=0.10 in /usr/local/lib/python3.8/dist-packages (from matplotlib->kydavra) (0.11.0)\n",
            "Requirement already satisfied: python-dateutil>=2.1 in /usr/local/lib/python3.8/dist-packages (from matplotlib->kydavra) (2.8.2)\n",
            "Requirement already satisfied: pytz>=2017.3 in /usr/local/lib/python3.8/dist-packages (from pandas->kydavra) (2022.7)\n",
            "Requirement already satisfied: scipy>=1.5.2 in /usr/local/lib/python3.8/dist-packages (from phik->kydavra) (1.7.3)\n",
            "Requirement already satisfied: joblib>=0.14.1 in /usr/local/lib/python3.8/dist-packages (from phik->kydavra) (1.2.0)\n",
            "Requirement already satisfied: threadpoolctl>=2.0.0 in /usr/local/lib/python3.8/dist-packages (from scikit-learn->kydavra) (3.1.0)\n",
            "Requirement already satisfied: patsy>=0.5 in /usr/local/lib/python3.8/dist-packages (from statsmodels->kydavra) (0.5.3)\n",
            "Requirement already satisfied: six in /usr/local/lib/python3.8/dist-packages (from patsy>=0.5->statsmodels->kydavra) (1.15.0)\n"
          ]
        }
      ]
    },
    {
      "cell_type": "code",
      "source": [
        "#in order to run the notebook, upload the dataset to your google.drive and copy the path into the pd.read_csv()\n",
        "path='/content/drive/MyDrive/Machine Learning/data3.csv'"
      ],
      "metadata": {
        "id": "4HKciH77O4-y"
      },
      "execution_count": 324,
      "outputs": []
    },
    {
      "cell_type": "code",
      "source": [
        "df=pd.read_csv(path)"
      ],
      "metadata": {
        "id": "Z1VGXnpfiOjk"
      },
      "execution_count": 325,
      "outputs": []
    },
    {
      "cell_type": "code",
      "source": [
        "df"
      ],
      "metadata": {
        "colab": {
          "base_uri": "https://localhost:8080/",
          "height": 589
        },
        "id": "z5hj3xkwiSqt",
        "outputId": "5312598c-fd2e-46ed-df5d-4658f8b2e237"
      },
      "execution_count": 255,
      "outputs": [
        {
          "output_type": "execute_result",
          "data": {
            "text/plain": [
              "       age workclass  fnlwgt     education  education.num      marital.status  \\\n",
              "0       90         ?   77053       HS-grad              9             Widowed   \n",
              "1       82   Private  132870       HS-grad              9             Widowed   \n",
              "2       66         ?  186061  Some-college             10             Widowed   \n",
              "3       54   Private  140359       7th-8th              4            Divorced   \n",
              "4       41   Private  264663  Some-college             10           Separated   \n",
              "...    ...       ...     ...           ...            ...                 ...   \n",
              "32556   22   Private  310152  Some-college             10       Never-married   \n",
              "32557   27   Private  257302    Assoc-acdm             12  Married-civ-spouse   \n",
              "32558   40   Private  154374       HS-grad              9  Married-civ-spouse   \n",
              "32559   58   Private  151910       HS-grad              9             Widowed   \n",
              "32560   22   Private  201490       HS-grad              9       Never-married   \n",
              "\n",
              "              occupation   relationship   race     sex  capital.gain  \\\n",
              "0                      ?  Not-in-family  White  Female             0   \n",
              "1        Exec-managerial  Not-in-family  White  Female             0   \n",
              "2                      ?      Unmarried  Black  Female             0   \n",
              "3      Machine-op-inspct      Unmarried  White  Female             0   \n",
              "4         Prof-specialty      Own-child  White  Female             0   \n",
              "...                  ...            ...    ...     ...           ...   \n",
              "32556    Protective-serv  Not-in-family  White    Male             0   \n",
              "32557       Tech-support           Wife  White  Female             0   \n",
              "32558  Machine-op-inspct        Husband  White    Male             0   \n",
              "32559       Adm-clerical      Unmarried  White  Female             0   \n",
              "32560       Adm-clerical      Own-child  White    Male             0   \n",
              "\n",
              "       capital.loss  hours.per.week native.country income  \n",
              "0              4356              40  United-States  <=50K  \n",
              "1              4356              18  United-States  <=50K  \n",
              "2              4356              40  United-States  <=50K  \n",
              "3              3900              40  United-States  <=50K  \n",
              "4              3900              40  United-States  <=50K  \n",
              "...             ...             ...            ...    ...  \n",
              "32556             0              40  United-States  <=50K  \n",
              "32557             0              38  United-States  <=50K  \n",
              "32558             0              40  United-States   >50K  \n",
              "32559             0              40  United-States  <=50K  \n",
              "32560             0              20  United-States  <=50K  \n",
              "\n",
              "[32561 rows x 15 columns]"
            ],
            "text/html": [
              "\n",
              "  <div id=\"df-91fe5d76-5ec6-4bf2-b08e-820e2514f2c5\">\n",
              "    <div class=\"colab-df-container\">\n",
              "      <div>\n",
              "<style scoped>\n",
              "    .dataframe tbody tr th:only-of-type {\n",
              "        vertical-align: middle;\n",
              "    }\n",
              "\n",
              "    .dataframe tbody tr th {\n",
              "        vertical-align: top;\n",
              "    }\n",
              "\n",
              "    .dataframe thead th {\n",
              "        text-align: right;\n",
              "    }\n",
              "</style>\n",
              "<table border=\"1\" class=\"dataframe\">\n",
              "  <thead>\n",
              "    <tr style=\"text-align: right;\">\n",
              "      <th></th>\n",
              "      <th>age</th>\n",
              "      <th>workclass</th>\n",
              "      <th>fnlwgt</th>\n",
              "      <th>education</th>\n",
              "      <th>education.num</th>\n",
              "      <th>marital.status</th>\n",
              "      <th>occupation</th>\n",
              "      <th>relationship</th>\n",
              "      <th>race</th>\n",
              "      <th>sex</th>\n",
              "      <th>capital.gain</th>\n",
              "      <th>capital.loss</th>\n",
              "      <th>hours.per.week</th>\n",
              "      <th>native.country</th>\n",
              "      <th>income</th>\n",
              "    </tr>\n",
              "  </thead>\n",
              "  <tbody>\n",
              "    <tr>\n",
              "      <th>0</th>\n",
              "      <td>90</td>\n",
              "      <td>?</td>\n",
              "      <td>77053</td>\n",
              "      <td>HS-grad</td>\n",
              "      <td>9</td>\n",
              "      <td>Widowed</td>\n",
              "      <td>?</td>\n",
              "      <td>Not-in-family</td>\n",
              "      <td>White</td>\n",
              "      <td>Female</td>\n",
              "      <td>0</td>\n",
              "      <td>4356</td>\n",
              "      <td>40</td>\n",
              "      <td>United-States</td>\n",
              "      <td>&lt;=50K</td>\n",
              "    </tr>\n",
              "    <tr>\n",
              "      <th>1</th>\n",
              "      <td>82</td>\n",
              "      <td>Private</td>\n",
              "      <td>132870</td>\n",
              "      <td>HS-grad</td>\n",
              "      <td>9</td>\n",
              "      <td>Widowed</td>\n",
              "      <td>Exec-managerial</td>\n",
              "      <td>Not-in-family</td>\n",
              "      <td>White</td>\n",
              "      <td>Female</td>\n",
              "      <td>0</td>\n",
              "      <td>4356</td>\n",
              "      <td>18</td>\n",
              "      <td>United-States</td>\n",
              "      <td>&lt;=50K</td>\n",
              "    </tr>\n",
              "    <tr>\n",
              "      <th>2</th>\n",
              "      <td>66</td>\n",
              "      <td>?</td>\n",
              "      <td>186061</td>\n",
              "      <td>Some-college</td>\n",
              "      <td>10</td>\n",
              "      <td>Widowed</td>\n",
              "      <td>?</td>\n",
              "      <td>Unmarried</td>\n",
              "      <td>Black</td>\n",
              "      <td>Female</td>\n",
              "      <td>0</td>\n",
              "      <td>4356</td>\n",
              "      <td>40</td>\n",
              "      <td>United-States</td>\n",
              "      <td>&lt;=50K</td>\n",
              "    </tr>\n",
              "    <tr>\n",
              "      <th>3</th>\n",
              "      <td>54</td>\n",
              "      <td>Private</td>\n",
              "      <td>140359</td>\n",
              "      <td>7th-8th</td>\n",
              "      <td>4</td>\n",
              "      <td>Divorced</td>\n",
              "      <td>Machine-op-inspct</td>\n",
              "      <td>Unmarried</td>\n",
              "      <td>White</td>\n",
              "      <td>Female</td>\n",
              "      <td>0</td>\n",
              "      <td>3900</td>\n",
              "      <td>40</td>\n",
              "      <td>United-States</td>\n",
              "      <td>&lt;=50K</td>\n",
              "    </tr>\n",
              "    <tr>\n",
              "      <th>4</th>\n",
              "      <td>41</td>\n",
              "      <td>Private</td>\n",
              "      <td>264663</td>\n",
              "      <td>Some-college</td>\n",
              "      <td>10</td>\n",
              "      <td>Separated</td>\n",
              "      <td>Prof-specialty</td>\n",
              "      <td>Own-child</td>\n",
              "      <td>White</td>\n",
              "      <td>Female</td>\n",
              "      <td>0</td>\n",
              "      <td>3900</td>\n",
              "      <td>40</td>\n",
              "      <td>United-States</td>\n",
              "      <td>&lt;=50K</td>\n",
              "    </tr>\n",
              "    <tr>\n",
              "      <th>...</th>\n",
              "      <td>...</td>\n",
              "      <td>...</td>\n",
              "      <td>...</td>\n",
              "      <td>...</td>\n",
              "      <td>...</td>\n",
              "      <td>...</td>\n",
              "      <td>...</td>\n",
              "      <td>...</td>\n",
              "      <td>...</td>\n",
              "      <td>...</td>\n",
              "      <td>...</td>\n",
              "      <td>...</td>\n",
              "      <td>...</td>\n",
              "      <td>...</td>\n",
              "      <td>...</td>\n",
              "    </tr>\n",
              "    <tr>\n",
              "      <th>32556</th>\n",
              "      <td>22</td>\n",
              "      <td>Private</td>\n",
              "      <td>310152</td>\n",
              "      <td>Some-college</td>\n",
              "      <td>10</td>\n",
              "      <td>Never-married</td>\n",
              "      <td>Protective-serv</td>\n",
              "      <td>Not-in-family</td>\n",
              "      <td>White</td>\n",
              "      <td>Male</td>\n",
              "      <td>0</td>\n",
              "      <td>0</td>\n",
              "      <td>40</td>\n",
              "      <td>United-States</td>\n",
              "      <td>&lt;=50K</td>\n",
              "    </tr>\n",
              "    <tr>\n",
              "      <th>32557</th>\n",
              "      <td>27</td>\n",
              "      <td>Private</td>\n",
              "      <td>257302</td>\n",
              "      <td>Assoc-acdm</td>\n",
              "      <td>12</td>\n",
              "      <td>Married-civ-spouse</td>\n",
              "      <td>Tech-support</td>\n",
              "      <td>Wife</td>\n",
              "      <td>White</td>\n",
              "      <td>Female</td>\n",
              "      <td>0</td>\n",
              "      <td>0</td>\n",
              "      <td>38</td>\n",
              "      <td>United-States</td>\n",
              "      <td>&lt;=50K</td>\n",
              "    </tr>\n",
              "    <tr>\n",
              "      <th>32558</th>\n",
              "      <td>40</td>\n",
              "      <td>Private</td>\n",
              "      <td>154374</td>\n",
              "      <td>HS-grad</td>\n",
              "      <td>9</td>\n",
              "      <td>Married-civ-spouse</td>\n",
              "      <td>Machine-op-inspct</td>\n",
              "      <td>Husband</td>\n",
              "      <td>White</td>\n",
              "      <td>Male</td>\n",
              "      <td>0</td>\n",
              "      <td>0</td>\n",
              "      <td>40</td>\n",
              "      <td>United-States</td>\n",
              "      <td>&gt;50K</td>\n",
              "    </tr>\n",
              "    <tr>\n",
              "      <th>32559</th>\n",
              "      <td>58</td>\n",
              "      <td>Private</td>\n",
              "      <td>151910</td>\n",
              "      <td>HS-grad</td>\n",
              "      <td>9</td>\n",
              "      <td>Widowed</td>\n",
              "      <td>Adm-clerical</td>\n",
              "      <td>Unmarried</td>\n",
              "      <td>White</td>\n",
              "      <td>Female</td>\n",
              "      <td>0</td>\n",
              "      <td>0</td>\n",
              "      <td>40</td>\n",
              "      <td>United-States</td>\n",
              "      <td>&lt;=50K</td>\n",
              "    </tr>\n",
              "    <tr>\n",
              "      <th>32560</th>\n",
              "      <td>22</td>\n",
              "      <td>Private</td>\n",
              "      <td>201490</td>\n",
              "      <td>HS-grad</td>\n",
              "      <td>9</td>\n",
              "      <td>Never-married</td>\n",
              "      <td>Adm-clerical</td>\n",
              "      <td>Own-child</td>\n",
              "      <td>White</td>\n",
              "      <td>Male</td>\n",
              "      <td>0</td>\n",
              "      <td>0</td>\n",
              "      <td>20</td>\n",
              "      <td>United-States</td>\n",
              "      <td>&lt;=50K</td>\n",
              "    </tr>\n",
              "  </tbody>\n",
              "</table>\n",
              "<p>32561 rows × 15 columns</p>\n",
              "</div>\n",
              "      <button class=\"colab-df-convert\" onclick=\"convertToInteractive('df-91fe5d76-5ec6-4bf2-b08e-820e2514f2c5')\"\n",
              "              title=\"Convert this dataframe to an interactive table.\"\n",
              "              style=\"display:none;\">\n",
              "        \n",
              "  <svg xmlns=\"http://www.w3.org/2000/svg\" height=\"24px\"viewBox=\"0 0 24 24\"\n",
              "       width=\"24px\">\n",
              "    <path d=\"M0 0h24v24H0V0z\" fill=\"none\"/>\n",
              "    <path d=\"M18.56 5.44l.94 2.06.94-2.06 2.06-.94-2.06-.94-.94-2.06-.94 2.06-2.06.94zm-11 1L8.5 8.5l.94-2.06 2.06-.94-2.06-.94L8.5 2.5l-.94 2.06-2.06.94zm10 10l.94 2.06.94-2.06 2.06-.94-2.06-.94-.94-2.06-.94 2.06-2.06.94z\"/><path d=\"M17.41 7.96l-1.37-1.37c-.4-.4-.92-.59-1.43-.59-.52 0-1.04.2-1.43.59L10.3 9.45l-7.72 7.72c-.78.78-.78 2.05 0 2.83L4 21.41c.39.39.9.59 1.41.59.51 0 1.02-.2 1.41-.59l7.78-7.78 2.81-2.81c.8-.78.8-2.07 0-2.86zM5.41 20L4 18.59l7.72-7.72 1.47 1.35L5.41 20z\"/>\n",
              "  </svg>\n",
              "      </button>\n",
              "      \n",
              "  <style>\n",
              "    .colab-df-container {\n",
              "      display:flex;\n",
              "      flex-wrap:wrap;\n",
              "      gap: 12px;\n",
              "    }\n",
              "\n",
              "    .colab-df-convert {\n",
              "      background-color: #E8F0FE;\n",
              "      border: none;\n",
              "      border-radius: 50%;\n",
              "      cursor: pointer;\n",
              "      display: none;\n",
              "      fill: #1967D2;\n",
              "      height: 32px;\n",
              "      padding: 0 0 0 0;\n",
              "      width: 32px;\n",
              "    }\n",
              "\n",
              "    .colab-df-convert:hover {\n",
              "      background-color: #E2EBFA;\n",
              "      box-shadow: 0px 1px 2px rgba(60, 64, 67, 0.3), 0px 1px 3px 1px rgba(60, 64, 67, 0.15);\n",
              "      fill: #174EA6;\n",
              "    }\n",
              "\n",
              "    [theme=dark] .colab-df-convert {\n",
              "      background-color: #3B4455;\n",
              "      fill: #D2E3FC;\n",
              "    }\n",
              "\n",
              "    [theme=dark] .colab-df-convert:hover {\n",
              "      background-color: #434B5C;\n",
              "      box-shadow: 0px 1px 3px 1px rgba(0, 0, 0, 0.15);\n",
              "      filter: drop-shadow(0px 1px 2px rgba(0, 0, 0, 0.3));\n",
              "      fill: #FFFFFF;\n",
              "    }\n",
              "  </style>\n",
              "\n",
              "      <script>\n",
              "        const buttonEl =\n",
              "          document.querySelector('#df-91fe5d76-5ec6-4bf2-b08e-820e2514f2c5 button.colab-df-convert');\n",
              "        buttonEl.style.display =\n",
              "          google.colab.kernel.accessAllowed ? 'block' : 'none';\n",
              "\n",
              "        async function convertToInteractive(key) {\n",
              "          const element = document.querySelector('#df-91fe5d76-5ec6-4bf2-b08e-820e2514f2c5');\n",
              "          const dataTable =\n",
              "            await google.colab.kernel.invokeFunction('convertToInteractive',\n",
              "                                                     [key], {});\n",
              "          if (!dataTable) return;\n",
              "\n",
              "          const docLinkHtml = 'Like what you see? Visit the ' +\n",
              "            '<a target=\"_blank\" href=https://colab.research.google.com/notebooks/data_table.ipynb>data table notebook</a>'\n",
              "            + ' to learn more about interactive tables.';\n",
              "          element.innerHTML = '';\n",
              "          dataTable['output_type'] = 'display_data';\n",
              "          await google.colab.output.renderOutput(dataTable, element);\n",
              "          const docLink = document.createElement('div');\n",
              "          docLink.innerHTML = docLinkHtml;\n",
              "          element.appendChild(docLink);\n",
              "        }\n",
              "      </script>\n",
              "    </div>\n",
              "  </div>\n",
              "  "
            ]
          },
          "metadata": {},
          "execution_count": 255
        }
      ]
    },
    {
      "cell_type": "code",
      "source": [
        "df['native.country'].value_counts()"
      ],
      "metadata": {
        "colab": {
          "base_uri": "https://localhost:8080/"
        },
        "id": "6RzGHwJQtoKI",
        "outputId": "d1d89b0b-151f-44d9-88f0-d84cc68b5738"
      },
      "execution_count": 256,
      "outputs": [
        {
          "output_type": "execute_result",
          "data": {
            "text/plain": [
              "United-States                 29170\n",
              "Mexico                          643\n",
              "?                               583\n",
              "Philippines                     198\n",
              "Germany                         137\n",
              "Canada                          121\n",
              "Puerto-Rico                     114\n",
              "El-Salvador                     106\n",
              "India                           100\n",
              "Cuba                             95\n",
              "England                          90\n",
              "Jamaica                          81\n",
              "South                            80\n",
              "China                            75\n",
              "Italy                            73\n",
              "Dominican-Republic               70\n",
              "Vietnam                          67\n",
              "Guatemala                        64\n",
              "Japan                            62\n",
              "Poland                           60\n",
              "Columbia                         59\n",
              "Taiwan                           51\n",
              "Haiti                            44\n",
              "Iran                             43\n",
              "Portugal                         37\n",
              "Nicaragua                        34\n",
              "Peru                             31\n",
              "Greece                           29\n",
              "France                           29\n",
              "Ecuador                          28\n",
              "Ireland                          24\n",
              "Hong                             20\n",
              "Cambodia                         19\n",
              "Trinadad&Tobago                  19\n",
              "Laos                             18\n",
              "Thailand                         18\n",
              "Yugoslavia                       16\n",
              "Outlying-US(Guam-USVI-etc)       14\n",
              "Hungary                          13\n",
              "Honduras                         13\n",
              "Scotland                         12\n",
              "Holand-Netherlands                1\n",
              "Name: native.country, dtype: int64"
            ]
          },
          "metadata": {},
          "execution_count": 256
        }
      ]
    },
    {
      "cell_type": "markdown",
      "source": [
        "the dataset is imabalced having a 3:1 ratio of people earing less than 50k compare to people who earn above 50k"
      ],
      "metadata": {
        "id": "oyCTiNgN5tCu"
      }
    },
    {
      "cell_type": "code",
      "source": [
        "df.income.value_counts()"
      ],
      "metadata": {
        "colab": {
          "base_uri": "https://localhost:8080/"
        },
        "id": "REUzMJ7MiUoj",
        "outputId": "347179f5-a773-4113-e241-44b2bf188e91"
      },
      "execution_count": 257,
      "outputs": [
        {
          "output_type": "execute_result",
          "data": {
            "text/plain": [
              "<=50K    24720\n",
              ">50K      7841\n",
              "Name: income, dtype: int64"
            ]
          },
          "metadata": {},
          "execution_count": 257
        }
      ]
    },
    {
      "cell_type": "code",
      "source": [
        "df['income'].value_counts().plot.pie(autopct='%.2f')\n",
        "plt.title('Income column imbalance')"
      ],
      "metadata": {
        "colab": {
          "base_uri": "https://localhost:8080/",
          "height": 281
        },
        "id": "2zNBJ029BFUx",
        "outputId": "ee0eb4ab-2292-42c2-cdb4-8363a25db47a"
      },
      "execution_count": 258,
      "outputs": [
        {
          "output_type": "execute_result",
          "data": {
            "text/plain": [
              "Text(0.5, 1.0, 'Income column imbalance')"
            ]
          },
          "metadata": {},
          "execution_count": 258
        },
        {
          "output_type": "display_data",
          "data": {
            "text/plain": [
              "<Figure size 432x288 with 1 Axes>"
            ],
            "image/png": "[encoded data removed]"
          },
          "metadata": {}
        }
      ]
    },
    {
      "cell_type": "markdown",
      "source": [
        "the dataset uses the '?' symbol to reprezent missing data, in order to process the data we will replace it with np.nan\n"
      ],
      "metadata": {
        "id": "f1aihCYZ8Q-k"
      }
    },
    {
      "cell_type": "code",
      "source": [
        "df.replace('?', np.nan, inplace=True)"
      ],
      "metadata": {
        "id": "N0eSHvv47P8L"
      },
      "execution_count": 259,
      "outputs": []
    },
    {
      "cell_type": "code",
      "source": [
        "df.isna().sum()"
      ],
      "metadata": {
        "colab": {
          "base_uri": "https://localhost:8080/"
        },
        "id": "HBXzeM8-6Ls3",
        "outputId": "39bcc72b-e4ca-4f5f-d6ac-cbdd5604eba5"
      },
      "execution_count": 260,
      "outputs": [
        {
          "output_type": "execute_result",
          "data": {
            "text/plain": [
              "age                  0\n",
              "workclass         1836\n",
              "fnlwgt               0\n",
              "education            0\n",
              "education.num        0\n",
              "marital.status       0\n",
              "occupation        1843\n",
              "relationship         0\n",
              "race                 0\n",
              "sex                  0\n",
              "capital.gain         0\n",
              "capital.loss         0\n",
              "hours.per.week       0\n",
              "native.country     583\n",
              "income               0\n",
              "dtype: int64"
            ]
          },
          "metadata": {},
          "execution_count": 260
        }
      ]
    },
    {
      "cell_type": "markdown",
      "source": [
        "In order to impute the missing categorical values, I am going to use Categorical Imputer which replaces the missing string with the most frequent unique value in the column."
      ],
      "metadata": {
        "id": "obfN5uXYfMwW"
      }
    },
    {
      "cell_type": "code",
      "source": [
        "from sklearn_pandas import CategoricalImputer\n",
        "imputer = CategoricalImputer()\n",
        "\n",
        "# the following columns are categorical and have missing values\n",
        "cols=['workclass', 'occupation', 'native.country']\n",
        "\n",
        "for col in cols:\n",
        "  df[col]=imputer.fit_transform(df[col])\n",
        "\n",
        "df.isna().sum()"
      ],
      "metadata": {
        "colab": {
          "base_uri": "https://localhost:8080/"
        },
        "id": "TScuXxSzcymA",
        "outputId": "74778165-7196-422d-c64c-dc5ab2d973f1"
      },
      "execution_count": 261,
      "outputs": [
        {
          "output_type": "execute_result",
          "data": {
            "text/plain": [
              "age               0\n",
              "workclass         0\n",
              "fnlwgt            0\n",
              "education         0\n",
              "education.num     0\n",
              "marital.status    0\n",
              "occupation        0\n",
              "relationship      0\n",
              "race              0\n",
              "sex               0\n",
              "capital.gain      0\n",
              "capital.loss      0\n",
              "hours.per.week    0\n",
              "native.country    0\n",
              "income            0\n",
              "dtype: int64"
            ]
          },
          "metadata": {},
          "execution_count": 261
        }
      ]
    },
    {
      "cell_type": "code",
      "source": [
        "df['education'].unique()"
      ],
      "metadata": {
        "colab": {
          "base_uri": "https://localhost:8080/"
        },
        "id": "0jsfj1FPf176",
        "outputId": "f759940d-4118-4617-e7a8-de804831d681"
      },
      "execution_count": 262,
      "outputs": [
        {
          "output_type": "execute_result",
          "data": {
            "text/plain": [
              "array(['HS-grad', 'Some-college', '7th-8th', '10th', 'Doctorate',\n",
              "       'Prof-school', 'Bachelors', 'Masters', '11th', 'Assoc-acdm',\n",
              "       'Assoc-voc', '1st-4th', '5th-6th', '12th', '9th', 'Preschool'],\n",
              "      dtype=object)"
            ]
          },
          "metadata": {},
          "execution_count": 262
        }
      ]
    },
    {
      "cell_type": "markdown",
      "source": [
        "checking and removing duplicates"
      ],
      "metadata": {
        "id": "gKFbTA2b_Omn"
      }
    },
    {
      "cell_type": "code",
      "source": [
        "df.duplicated().sum()"
      ],
      "metadata": {
        "colab": {
          "base_uri": "https://localhost:8080/"
        },
        "id": "S04RVaQK_Cx9",
        "outputId": "572a7af8-6c41-4d68-ec7b-f42a51399b91"
      },
      "execution_count": 263,
      "outputs": [
        {
          "output_type": "execute_result",
          "data": {
            "text/plain": [
              "24"
            ]
          },
          "metadata": {},
          "execution_count": 263
        }
      ]
    },
    {
      "cell_type": "code",
      "source": [
        "df.drop_duplicates(inplace=True)"
      ],
      "metadata": {
        "id": "iqmvKiVx_Tdv"
      },
      "execution_count": 264,
      "outputs": []
    },
    {
      "cell_type": "code",
      "source": [
        "df.info()"
      ],
      "metadata": {
        "id": "wH4_59QfiudG",
        "colab": {
          "base_uri": "https://localhost:8080/"
        },
        "outputId": "d38b7821-164a-41e7-d943-150c1e32dfdd"
      },
      "execution_count": 265,
      "outputs": [
        {
          "output_type": "stream",
          "name": "stdout",
          "text": [
            "<class 'pandas.core.frame.DataFrame'>\n",
            "Int64Index: 32537 entries, 0 to 32560\n",
            "Data columns (total 15 columns):\n",
            " #   Column          Non-Null Count  Dtype \n",
            "---  ------          --------------  ----- \n",
            " 0   age             32537 non-null  int64 \n",
            " 1   workclass       32537 non-null  object\n",
            " 2   fnlwgt          32537 non-null  int64 \n",
            " 3   education       32537 non-null  object\n",
            " 4   education.num   32537 non-null  int64 \n",
            " 5   marital.status  32537 non-null  object\n",
            " 6   occupation      32537 non-null  object\n",
            " 7   relationship    32537 non-null  object\n",
            " 8   race            32537 non-null  object\n",
            " 9   sex             32537 non-null  object\n",
            " 10  capital.gain    32537 non-null  int64 \n",
            " 11  capital.loss    32537 non-null  int64 \n",
            " 12  hours.per.week  32537 non-null  int64 \n",
            " 13  native.country  32537 non-null  object\n",
            " 14  income          32537 non-null  object\n",
            "dtypes: int64(6), object(9)\n",
            "memory usage: 4.0+ MB\n"
          ]
        }
      ]
    },
    {
      "cell_type": "markdown",
      "source": [
        "##Feature engineering & feature selection"
      ],
      "metadata": {
        "id": "Qe1X7SN7xe_g"
      }
    },
    {
      "cell_type": "markdown",
      "source": [
        "To determine the way in which the categorical type columns will be transformed we need to analyze the number of unique instances whithin each column. If its = 2 then we will apply the Label encoder on that column, if > 2 the One Hot Encoder will be used."
      ],
      "metadata": {
        "id": "k_y4ZpHTu-B8"
      }
    },
    {
      "cell_type": "code",
      "source": [
        "dct=dict()\n",
        "#we iterate through each non-numeric dtype column to calculate the number of unique values\n",
        "for col in df.select_dtypes(['object']).columns:\n",
        "  dct[col]=df[col].unique()"
      ],
      "metadata": {
        "id": "6YrUnAOYr-43"
      },
      "execution_count": 266,
      "outputs": []
    },
    {
      "cell_type": "code",
      "source": [
        "for key, value in dct.items():\n",
        "  print(key, len(value))"
      ],
      "metadata": {
        "colab": {
          "base_uri": "https://localhost:8080/"
        },
        "id": "sXpvXlb3uroS",
        "outputId": "8bde6218-8a98-419f-a616-2ec78b9ac8e9"
      },
      "execution_count": 267,
      "outputs": [
        {
          "output_type": "stream",
          "name": "stdout",
          "text": [
            "workclass 8\n",
            "education 16\n",
            "marital.status 7\n",
            "occupation 14\n",
            "relationship 6\n",
            "race 5\n",
            "sex 2\n",
            "native.country 41\n",
            "income 2\n"
          ]
        }
      ]
    },
    {
      "cell_type": "code",
      "source": [
        "df.columns"
      ],
      "metadata": {
        "colab": {
          "base_uri": "https://localhost:8080/"
        },
        "id": "IRJ5v10n25g4",
        "outputId": "d1ea764c-0481-4174-abbc-2d8795170964"
      },
      "execution_count": 268,
      "outputs": [
        {
          "output_type": "execute_result",
          "data": {
            "text/plain": [
              "Index(['age', 'workclass', 'fnlwgt', 'education', 'education.num',\n",
              "       'marital.status', 'occupation', 'relationship', 'race', 'sex',\n",
              "       'capital.gain', 'capital.loss', 'hours.per.week', 'native.country',\n",
              "       'income'],\n",
              "      dtype='object')"
            ]
          },
          "metadata": {},
          "execution_count": 268
        }
      ]
    },
    {
      "cell_type": "markdown",
      "source": [
        "We are going to frequency encode the native.country column which has 41 unique values, in order to avoid a sparse matrix"
      ],
      "metadata": {
        "id": "Dq5PVqZx7W_6"
      }
    },
    {
      "cell_type": "code",
      "source": [
        "from imperio import FrequencyImputationTransformer\n",
        "#FrequencyImputationTransformer is great but had an error and couldnt figure it out\n",
        "#im going to encode it manualy"
      ],
      "metadata": {
        "id": "0jxXXIBH3U0v"
      },
      "execution_count": 269,
      "outputs": []
    },
    {
      "cell_type": "code",
      "source": [
        "df['native.country'].value_counts().head()"
      ],
      "metadata": {
        "colab": {
          "base_uri": "https://localhost:8080/"
        },
        "id": "vhY6XjgB9pAj",
        "outputId": "76a3dc4b-8d0b-493f-feaa-b51b4cd86f03"
      },
      "execution_count": 270,
      "outputs": [
        {
          "output_type": "execute_result",
          "data": {
            "text/plain": [
              "United-States    29735\n",
              "Mexico             639\n",
              "Philippines        198\n",
              "Germany            137\n",
              "Canada             121\n",
              "Name: native.country, dtype: int64"
            ]
          },
          "metadata": {},
          "execution_count": 270
        }
      ]
    },
    {
      "cell_type": "code",
      "source": [
        "frequency_dict=df['native.country'].value_counts().to_dict()"
      ],
      "metadata": {
        "id": "50Dhb_Lq7x3o"
      },
      "execution_count": 271,
      "outputs": []
    },
    {
      "cell_type": "code",
      "source": [
        "df['native.country']=df['native.country'].map(frequency_dict)"
      ],
      "metadata": {
        "id": "uIS_lrhX8KTL"
      },
      "execution_count": 272,
      "outputs": []
    },
    {
      "cell_type": "markdown",
      "source": [
        "since the education column has data which has a higherarchical relantionship we can label encode along with the other columns with 2 unique values"
      ],
      "metadata": {
        "id": "-F6-xpofgkN5"
      }
    },
    {
      "cell_type": "code",
      "source": [
        "df['education'].unique()"
      ],
      "metadata": {
        "colab": {
          "base_uri": "https://localhost:8080/"
        },
        "id": "B9BzUNJXhYp4",
        "outputId": "546882dc-4849-4776-de61-8400828d13b4"
      },
      "execution_count": 273,
      "outputs": [
        {
          "output_type": "execute_result",
          "data": {
            "text/plain": [
              "array(['HS-grad', 'Some-college', '7th-8th', '10th', 'Doctorate',\n",
              "       'Prof-school', 'Bachelors', 'Masters', '11th', 'Assoc-acdm',\n",
              "       'Assoc-voc', '1st-4th', '5th-6th', '12th', '9th', 'Preschool'],\n",
              "      dtype=object)"
            ]
          },
          "metadata": {},
          "execution_count": 273
        }
      ]
    },
    {
      "cell_type": "code",
      "source": [
        "from sklearn.preprocessing import LabelEncoder\n",
        "label_en=LabelEncoder()\n",
        "\n",
        "cols=['sex', 'income', 'education']\n",
        "for col in cols:\n",
        "  df[col]=label_en.fit_transform(df[col])\n"
      ],
      "metadata": {
        "id": "6IbKNZuBn-Jx"
      },
      "execution_count": 274,
      "outputs": []
    },
    {
      "cell_type": "markdown",
      "source": [
        "the rest of the categorical columns will be one hot encoded"
      ],
      "metadata": {
        "id": "njMeEH-79yHI"
      }
    },
    {
      "cell_type": "code",
      "source": [
        "cols=['workclass',  'marital.status', 'occupation', 'relationship', 'race'] \n",
        "df_one_hot_encoded=pd.get_dummies(df[cols])"
      ],
      "metadata": {
        "id": "P83OJoYem7sx"
      },
      "execution_count": 275,
      "outputs": []
    },
    {
      "cell_type": "code",
      "source": [
        "df=pd.concat([df, df_one_hot_encoded], axis=1 )\n",
        "df.drop(cols, axis=1, inplace=True)"
      ],
      "metadata": {
        "id": "gBqTjkyynX25"
      },
      "execution_count": 276,
      "outputs": []
    },
    {
      "cell_type": "code",
      "source": [
        "df.shape"
      ],
      "metadata": {
        "colab": {
          "base_uri": "https://localhost:8080/"
        },
        "id": "GXsadYebEgMc",
        "outputId": "7d183a05-f2bb-41af-bdc4-1580edf22cb7"
      },
      "execution_count": 277,
      "outputs": [
        {
          "output_type": "execute_result",
          "data": {
            "text/plain": [
              "(32537, 50)"
            ]
          },
          "metadata": {},
          "execution_count": 277
        }
      ]
    },
    {
      "cell_type": "markdown",
      "source": [
        "##Visualizing the data, against the target column"
      ],
      "metadata": {
        "id": "5WC_0njCLtJX"
      }
    },
    {
      "cell_type": "code",
      "source": [
        "import seaborn as sns"
      ],
      "metadata": {
        "id": "sOWmzNouK4hD"
      },
      "execution_count": 278,
      "outputs": []
    },
    {
      "cell_type": "code",
      "source": [
        "with sns.axes_style('darkgrid'):\n",
        "  x=df['hours.per.week']\n",
        "  y=df['income']\n",
        "  # colors=df['education.num']\n",
        "  plt.figure(dpi=150)\n",
        "  plt.scatter(x, y, cmap='viridis', alpha=0.7)\n",
        "  cb=plt.colorbar()\n",
        "  plt.ylabel(\"Income 1= >50k, 0= <50k\")\n",
        "  plt.xlabel(\"hours per week worked\")\n",
        "  plt.title(\"Income based on hours per week worked\")"
      ],
      "metadata": {
        "colab": {
          "base_uri": "https://localhost:8080/",
          "height": 594
        },
        "id": "l4ByWh7LKlEB",
        "outputId": "84ffbba6-729f-4d8b-c396-ab47e4415ad7"
      },
      "execution_count": 279,
      "outputs": [
        {
          "output_type": "display_data",
          "data": {
            "text/plain": [
              "<Figure size 900x600 with 2 Axes>"
            ],
            "image/png": "[encoded data removed]"
          },
          "metadata": {}
        }
      ]
    },
    {
      "cell_type": "code",
      "source": [
        "sns.lmplot(data=df, x='age', y='fnlwgt', hue='income', height=7, aspect=1)\n",
        "plt.title(\"Lmplot, visualizing the how age and financial weight influences the income\")"
      ],
      "metadata": {
        "colab": {
          "base_uri": "https://localhost:8080/",
          "height": 535
        },
        "id": "6Z8UwYR5L-fx",
        "outputId": "ff04716e-77fe-4222-a773-def0dead2c8b"
      },
      "execution_count": 280,
      "outputs": [
        {
          "output_type": "execute_result",
          "data": {
            "text/plain": [
              "Text(0.5, 1.0, 'Lmplot, visualizing the how age and financial weight influences the income')"
            ]
          },
          "metadata": {},
          "execution_count": 280
        },
        {
          "output_type": "display_data",
          "data": {
            "text/plain": [
              "<Figure size 548.5x504 with 1 Axes>"
            ],
            "image/png": "[encoded data removed]"
          },
          "metadata": {
            "needs_background": "light"
          }
        }
      ]
    },
    {
      "cell_type": "markdown",
      "source": [
        "##Outlier Detection"
      ],
      "metadata": {
        "id": "SMKMWr1IDkxV"
      }
    },
    {
      "cell_type": "code",
      "source": [
        "from sklearn.ensemble import IsolationForest\n",
        "model=IsolationForest()"
      ],
      "metadata": {
        "id": "2Md0JLqwDi_m"
      },
      "execution_count": 281,
      "outputs": []
    },
    {
      "cell_type": "code",
      "source": [
        "# Apply algorithm to data\n",
        "df['outlier']=pd.Series(model.fit_predict(df.values))\n",
        "# Remove rows where there is -1 in created column\n",
        "df=df[df.outlier!=-1]\n"
      ],
      "metadata": {
        "id": "3gaJ4wqjDxbn"
      },
      "execution_count": 282,
      "outputs": []
    },
    {
      "cell_type": "code",
      "source": [
        "df.drop(['outlier'], axis=1, inplace=True)"
      ],
      "metadata": {
        "id": "Go5n91vyD3Hq"
      },
      "execution_count": 283,
      "outputs": []
    },
    {
      "cell_type": "markdown",
      "source": [
        "We can notice that our method has dropped ~ 1000 rows which were outliers\n",
        "(32537 row originally)"
      ],
      "metadata": {
        "id": "JKfthNzaEqYA"
      }
    },
    {
      "cell_type": "code",
      "source": [
        "df.shape"
      ],
      "metadata": {
        "colab": {
          "base_uri": "https://localhost:8080/"
        },
        "id": "arZnpXJvEbhf",
        "outputId": "c5e6d02a-f5e8-4d40-f52a-04e48977d0be"
      },
      "execution_count": 284,
      "outputs": [
        {
          "output_type": "execute_result",
          "data": {
            "text/plain": [
              "(31769, 50)"
            ]
          },
          "metadata": {},
          "execution_count": 284
        }
      ]
    },
    {
      "cell_type": "markdown",
      "source": [
        "#Feature selection"
      ],
      "metadata": {
        "id": "u3zKMpupFLSk"
      }
    },
    {
      "cell_type": "markdown",
      "source": [
        "Im going to perform feature selection with the PValueSelector()"
      ],
      "metadata": {
        "id": "YhPucnwDHeAj"
      }
    },
    {
      "cell_type": "code",
      "source": [
        "from kydavra import PValueSelector\n",
        "pvalue_selector = PValueSelector()\n",
        "selected_columns = pvalue_selector.select(df, 'income')\n",
        "pvalue_selector.plot_process()"
      ],
      "metadata": {
        "colab": {
          "base_uri": "https://localhost:8080/",
          "height": 317
        },
        "id": "PJWe_3bhFJqc",
        "outputId": "aaecddc7-2879-4576-89af-e6537659d93a"
      },
      "execution_count": 285,
      "outputs": [
        {
          "output_type": "display_data",
          "data": {
            "text/plain": [
              "<Figure size 432x288 with 1 Axes>"
            ],
            "image/png": "[encoded data removed]"
          },
          "metadata": {
            "needs_background": "light"
          }
        }
      ]
    },
    {
      "cell_type": "code",
      "source": [
        "len(selected_columns)"
      ],
      "metadata": {
        "colab": {
          "base_uri": "https://localhost:8080/"
        },
        "id": "2YNNzabOFi8Q",
        "outputId": "b3439c6a-7602-440e-b7d1-52fffa6aeda4"
      },
      "execution_count": 286,
      "outputs": [
        {
          "output_type": "execute_result",
          "data": {
            "text/plain": [
              "36"
            ]
          },
          "metadata": {},
          "execution_count": 286
        }
      ]
    },
    {
      "cell_type": "code",
      "source": [
        "df_selected=df[selected_columns]"
      ],
      "metadata": {
        "id": "-Y-eTVukGCTS"
      },
      "execution_count": 287,
      "outputs": []
    },
    {
      "cell_type": "markdown",
      "source": [
        "Within the pipeline the selected columns data will be compared with the non selected columns data, thus determining if it is worth using feature_selection"
      ],
      "metadata": {
        "id": "wWOGG61oHmpK"
      }
    },
    {
      "cell_type": "code",
      "source": [
        "X_train_s, X_test_s, y_train_s, y_test_s=train_test_split(df_selected, df['income'], test_size=0.2, random_state=18)\n"
      ],
      "metadata": {
        "id": "ESe4oyVLGvfz"
      },
      "execution_count": 288,
      "outputs": []
    },
    {
      "cell_type": "markdown",
      "source": [
        "Analyzing the correlation of the dataset with the target column"
      ],
      "metadata": {
        "id": "3X7WemujyPb8"
      }
    },
    {
      "cell_type": "code",
      "source": [
        "print(df.drop(['income'], axis=1).corrwith(df['income']).sort_values().head(), '\\n\\n',\n",
        "df.drop(['income'], axis=1).corrwith(df['income']).sort_values().tail())"
      ],
      "metadata": {
        "colab": {
          "base_uri": "https://localhost:8080/"
        },
        "id": "IxZowJdEw79Y",
        "outputId": "95c02e54-d75f-471b-957a-65bb5a77f3f3"
      },
      "execution_count": 289,
      "outputs": [
        {
          "output_type": "stream",
          "name": "stdout",
          "text": [
            "marital.status_Never-married   -0.319234\n",
            "relationship_Own-child         -0.227547\n",
            "relationship_Not-in-family     -0.191387\n",
            "occupation_Other-service       -0.156542\n",
            "relationship_Unmarried         -0.146370\n",
            "dtype: float64 \n",
            "\n",
            " hours.per.week                       0.230167\n",
            "age                                  0.231218\n",
            "education.num                        0.331713\n",
            "relationship_Husband                 0.408333\n",
            "marital.status_Married-civ-spouse    0.448856\n",
            "dtype: float64\n"
          ]
        }
      ]
    },
    {
      "cell_type": "markdown",
      "source": [
        "creating a dictionary with the top 20 absolute maximum correlations to the target"
      ],
      "metadata": {
        "id": "-HBS5C46yXC3"
      }
    },
    {
      "cell_type": "code",
      "source": [
        "bottom10=df.drop(['income'], axis=1).corrwith(df['income']).sort_values()[:10].to_dict()\n",
        "top10=df.drop(['income'], axis=1).corrwith(df['income']).sort_values()[-10:].to_dict()\n",
        "max_abs_corr={**bottom10, **top10}"
      ],
      "metadata": {
        "id": "nD4xn8S8qKoe"
      },
      "execution_count": 290,
      "outputs": []
    },
    {
      "cell_type": "code",
      "source": [
        "names=list(max_abs_corr.keys())\n",
        "values=list(max_abs_corr.values())"
      ],
      "metadata": {
        "id": "VogRPkN5_nB-"
      },
      "execution_count": 291,
      "outputs": []
    },
    {
      "cell_type": "code",
      "source": [
        "fig=plt.bar(names, values)\n",
        "plt.title(\"Top 20 Columns with highest correlation to target\")\n",
        "plt.ylabel(\"Correlation\")\n",
        "plt.xlabel(\"Column name\")"
      ],
      "metadata": {
        "colab": {
          "base_uri": "https://localhost:8080/",
          "height": 313
        },
        "id": "SfseolBd-49C",
        "outputId": "7c985547-39f2-45c8-a337-9ce7c71a11c3"
      },
      "execution_count": 292,
      "outputs": [
        {
          "output_type": "execute_result",
          "data": {
            "text/plain": [
              "Text(0.5, 0, 'Column name')"
            ]
          },
          "metadata": {},
          "execution_count": 292
        },
        {
          "output_type": "display_data",
          "data": {
            "text/plain": [
              "<Figure size 432x288 with 1 Axes>"
            ],
            "image/png": "[encoded data removed]"
          },
          "metadata": {
            "needs_background": "light"
          }
        }
      ]
    },
    {
      "cell_type": "markdown",
      "source": [
        "Shuffling the data before splitting it, to ensure unbiased metric outputs"
      ],
      "metadata": {
        "id": "j7f5lSRvj4cQ"
      }
    },
    {
      "cell_type": "code",
      "source": [
        "df=df.sample(frac=1).reset_index(drop=True)\n",
        "target=df['income']\n",
        "X=df.drop(['income'], axis=1)"
      ],
      "metadata": {
        "id": "rtnK2QO8nFOh"
      },
      "execution_count": 293,
      "outputs": []
    },
    {
      "cell_type": "code",
      "source": [
        "X_train, X_test, y_train, y_test=train_test_split(X, target, test_size=0.2, random_state=18)"
      ],
      "metadata": {
        "id": "BlYmIDjvwTNj"
      },
      "execution_count": 294,
      "outputs": []
    },
    {
      "cell_type": "markdown",
      "source": [
        "##Class balancing"
      ],
      "metadata": {
        "id": "2AGIdGtHwDhL"
      }
    },
    {
      "cell_type": "markdown",
      "source": [
        "Class balancing, since the dataset is too large to perform class balancing methods such as ICOTE or SMOTEEN I will use over sampling / undersampling"
      ],
      "metadata": {
        "id": "mJqd5dRnsxro"
      }
    },
    {
      "cell_type": "code",
      "source": [
        "!pip install imbalanced-learn"
      ],
      "metadata": {
        "colab": {
          "base_uri": "https://localhost:8080/"
        },
        "id": "zxY857PatWa4",
        "outputId": "1ecb738c-e04c-4955-9617-e1803669f843"
      },
      "execution_count": 295,
      "outputs": [
        {
          "output_type": "stream",
          "name": "stdout",
          "text": [
            "Looking in indexes: https://pypi.org/simple, https://us-python.pkg.dev/colab-wheels/public/simple/\n",
            "Requirement already satisfied: imbalanced-learn in /usr/local/lib/python3.8/dist-packages (0.8.1)\n",
            "Requirement already satisfied: joblib>=0.11 in /usr/local/lib/python3.8/dist-packages (from imbalanced-learn) (1.2.0)\n",
            "Requirement already satisfied: scipy>=0.19.1 in /usr/local/lib/python3.8/dist-packages (from imbalanced-learn) (1.7.3)\n",
            "Requirement already satisfied: numpy>=1.13.3 in /usr/local/lib/python3.8/dist-packages (from imbalanced-learn) (1.21.6)\n",
            "Requirement already satisfied: scikit-learn>=0.24 in /usr/local/lib/python3.8/dist-packages (from imbalanced-learn) (1.0.2)\n",
            "Requirement already satisfied: threadpoolctl>=2.0.0 in /usr/local/lib/python3.8/dist-packages (from scikit-learn>=0.24->imbalanced-learn) (3.1.0)\n"
          ]
        }
      ]
    },
    {
      "cell_type": "code",
      "source": [
        "\n",
        "# define oversampling strategy\n",
        "from imblearn.over_sampling import RandomOverSampler\n",
        "oversample = RandomOverSampler(sampling_strategy='minority')"
      ],
      "metadata": {
        "id": "SHzJwtE_tLtL"
      },
      "execution_count": 296,
      "outputs": []
    },
    {
      "cell_type": "code",
      "source": [
        "X_over, y_over = oversample.fit_resample(X_train, y_train)"
      ],
      "metadata": {
        "id": "SeuZUthTuGJ7"
      },
      "execution_count": 297,
      "outputs": []
    },
    {
      "cell_type": "code",
      "source": [
        "X_train.shape, y_train.shape"
      ],
      "metadata": {
        "colab": {
          "base_uri": "https://localhost:8080/"
        },
        "id": "bgy_BPEduUbk",
        "outputId": "ca06e3f1-ef6e-43e5-8891-9502210005da"
      },
      "execution_count": 298,
      "outputs": [
        {
          "output_type": "execute_result",
          "data": {
            "text/plain": [
              "((25415, 49), (25415,))"
            ]
          },
          "metadata": {},
          "execution_count": 298
        }
      ]
    },
    {
      "cell_type": "code",
      "source": [
        "X_over.shape, y_over.shape"
      ],
      "metadata": {
        "colab": {
          "base_uri": "https://localhost:8080/"
        },
        "id": "1-SeGekLu3HI",
        "outputId": "979abfbe-7f68-473a-8209-06f05ce8cae3"
      },
      "execution_count": 299,
      "outputs": [
        {
          "output_type": "execute_result",
          "data": {
            "text/plain": [
              "((38808, 49), (38808,))"
            ]
          },
          "metadata": {},
          "execution_count": 299
        }
      ]
    },
    {
      "cell_type": "markdown",
      "source": [
        "Im going to perform Both Undersampling and Oversampling to determine which performs better during cross validation"
      ],
      "metadata": {
        "id": "u8_986Y5v4mJ"
      }
    },
    {
      "cell_type": "code",
      "source": [
        "from imblearn.under_sampling import RandomUnderSampler\n",
        "undersample = RandomUnderSampler(sampling_strategy='majority')\n",
        "X_under, y_under = undersample.fit_resample(X_train, y_train)"
      ],
      "metadata": {
        "id": "C3sFjCfSvJCy"
      },
      "execution_count": 300,
      "outputs": []
    },
    {
      "cell_type": "code",
      "source": [
        "X_under.shape, y_under.shape"
      ],
      "metadata": {
        "colab": {
          "base_uri": "https://localhost:8080/"
        },
        "id": "_UMm-qHyvupc",
        "outputId": "19baf098-da72-4967-e3b3-639ca974811f"
      },
      "execution_count": 301,
      "outputs": [
        {
          "output_type": "execute_result",
          "data": {
            "text/plain": [
              "((12022, 49), (12022,))"
            ]
          },
          "metadata": {},
          "execution_count": 301
        }
      ]
    },
    {
      "cell_type": "markdown",
      "source": [
        "##Building the pipeline"
      ],
      "metadata": {
        "id": "U8Y2JcUPyqVZ"
      }
    },
    {
      "cell_type": "code",
      "source": [
        "from sklearn.preprocessing import StandardScaler\n",
        "from sklearn.preprocessing import MinMaxScaler\n",
        "from sklearn.linear_model import LogisticRegression\n",
        "from sklearn.ensemble import RandomForestClassifier\n",
        "from sklearn.pipeline import Pipeline\n",
        "import xgboost as xgb\n",
        "from sklearn.neighbors import KNeighborsClassifier"
      ],
      "metadata": {
        "id": "nOjg-T4GlDSo"
      },
      "execution_count": 302,
      "outputs": []
    },
    {
      "cell_type": "markdown",
      "source": [
        "Basic pipeline with the unbalanced data"
      ],
      "metadata": {
        "id": "bGCbGrb-zDLI"
      }
    },
    {
      "cell_type": "code",
      "source": [
        "p1=Pipeline([\n",
        "              (\"Std Scaler\", StandardScaler()),\n",
        "             (\"Logistic Regression\", LogisticRegression()),\n",
        "             \n",
        "             ])"
      ],
      "metadata": {
        "id": "RTJvMXd2ZC-O"
      },
      "execution_count": 303,
      "outputs": []
    },
    {
      "cell_type": "code",
      "source": [
        "p1.fit(X_train, y_train)\n",
        "p1.score(X_test, y_test)"
      ],
      "metadata": {
        "colab": {
          "base_uri": "https://localhost:8080/"
        },
        "id": "EjLFMt71Vdk1",
        "outputId": "324b1506-77ea-426a-a816-4c78b93cdcc1"
      },
      "execution_count": 304,
      "outputs": [
        {
          "output_type": "execute_result",
          "data": {
            "text/plain": [
              "0.8500157381177211"
            ]
          },
          "metadata": {},
          "execution_count": 304
        }
      ]
    },
    {
      "cell_type": "code",
      "source": [
        "p1.fit(X_over, y_over)\n",
        "p1.score(X_test, y_test)"
      ],
      "metadata": {
        "colab": {
          "base_uri": "https://localhost:8080/"
        },
        "id": "Sn3yZKv50NRE",
        "outputId": "eb09c708-ab51-44a6-d757-faa34a4b1d94"
      },
      "execution_count": 305,
      "outputs": [
        {
          "output_type": "execute_result",
          "data": {
            "text/plain": [
              "0.8103556814604973"
            ]
          },
          "metadata": {},
          "execution_count": 305
        }
      ]
    },
    {
      "cell_type": "code",
      "source": [
        "p1.fit(X_under, y_under)\n",
        "p1.score(X_test, y_test)"
      ],
      "metadata": {
        "colab": {
          "base_uri": "https://localhost:8080/"
        },
        "id": "VmdMTYz90N5l",
        "outputId": "cac23d3f-91bc-4c17-9de9-bd1a932b13cf"
      },
      "execution_count": 306,
      "outputs": [
        {
          "output_type": "execute_result",
          "data": {
            "text/plain": [
              "0.8092540132200189"
            ]
          },
          "metadata": {},
          "execution_count": 306
        }
      ]
    },
    {
      "cell_type": "markdown",
      "source": [
        "\n",
        "\n",
        "---\n",
        "\n"
      ],
      "metadata": {
        "id": "RIHOxr1720mI"
      }
    },
    {
      "cell_type": "markdown",
      "source": [
        "Random forest classifier pipeline with unbalanced data\n"
      ],
      "metadata": {
        "id": "pbqeFwwjzhAd"
      }
    },
    {
      "cell_type": "code",
      "source": [
        "p2=Pipeline([\n",
        "              (\"Std Scaler\", StandardScaler()),\n",
        "             (\"Random Forest\", RandomForestClassifier()),\n",
        "             \n",
        "             ])"
      ],
      "metadata": {
        "id": "fCFMWCv-zMDn"
      },
      "execution_count": 307,
      "outputs": []
    },
    {
      "cell_type": "code",
      "source": [
        "p2.fit(X_train, y_train)\n",
        "p2.score(X_test, y_test)"
      ],
      "metadata": {
        "colab": {
          "base_uri": "https://localhost:8080/"
        },
        "id": "qLC1Tk6JzU1z",
        "outputId": "3628f09b-cca5-4574-a3d6-6bf0211df12b"
      },
      "execution_count": 308,
      "outputs": [
        {
          "output_type": "execute_result",
          "data": {
            "text/plain": [
              "0.8519043122442556"
            ]
          },
          "metadata": {},
          "execution_count": 308
        }
      ]
    },
    {
      "cell_type": "markdown",
      "source": [
        "same pipeline with oversampling"
      ],
      "metadata": {
        "id": "6MX1ds91z-Lx"
      }
    },
    {
      "cell_type": "code",
      "source": [
        "p2.fit(X_over, y_over)\n",
        "p2.score(X_test, y_test)"
      ],
      "metadata": {
        "colab": {
          "base_uri": "https://localhost:8080/"
        },
        "id": "OYzo0JENzb7H",
        "outputId": "c4752367-dad0-4b77-d68c-8ebfe0786346"
      },
      "execution_count": 309,
      "outputs": [
        {
          "output_type": "execute_result",
          "data": {
            "text/plain": [
              "0.8448221592697513"
            ]
          },
          "metadata": {},
          "execution_count": 309
        }
      ]
    },
    {
      "cell_type": "markdown",
      "source": [
        "same pipeline with undersampling"
      ],
      "metadata": {
        "id": "6guhfKIC0A5E"
      }
    },
    {
      "cell_type": "code",
      "source": [
        "p2.fit(X_under, y_under)\n",
        "p2.score(X_test, y_test)"
      ],
      "metadata": {
        "colab": {
          "base_uri": "https://localhost:8080/"
        },
        "id": "fd4szNtIzyyy",
        "outputId": "1a020435-ff64-445b-ba00-cd8ed9e7dde5"
      },
      "execution_count": 310,
      "outputs": [
        {
          "output_type": "execute_result",
          "data": {
            "text/plain": [
              "0.8133459238275103"
            ]
          },
          "metadata": {},
          "execution_count": 310
        }
      ]
    },
    {
      "cell_type": "markdown",
      "source": [
        "Since both of the pipelines have performed better with the non-balanced data we are going to use it.\n",
        "\n",
        "---\n",
        "\n"
      ],
      "metadata": {
        "id": "dcYn7Tib2rDu"
      }
    },
    {
      "cell_type": "markdown",
      "source": [
        "Rdm forest pipeline with Min Max Scaler"
      ],
      "metadata": {
        "id": "6PVqvEj701wz"
      }
    },
    {
      "cell_type": "code",
      "source": [
        "p3=Pipeline([\n",
        "              (\"Min Max Scaler\", MinMaxScaler() ),\n",
        "              (\"Std Scaler\", StandardScaler()),\n",
        "             (\"Random Forest\", RandomForestClassifier()),\n",
        "             \n",
        "             ])"
      ],
      "metadata": {
        "id": "rUfrztn6z6kL"
      },
      "execution_count": 311,
      "outputs": []
    },
    {
      "cell_type": "code",
      "source": [
        "p3.fit(X_train, y_train)\n",
        "p3.score(X_test, y_test)"
      ],
      "metadata": {
        "colab": {
          "base_uri": "https://localhost:8080/"
        },
        "id": "Ne2hyOIs0nCi",
        "outputId": "59b2c6f5-7de1-45b1-a9aa-c9e3363e1602"
      },
      "execution_count": 312,
      "outputs": [
        {
          "output_type": "execute_result",
          "data": {
            "text/plain": [
              "0.8506452628265659"
            ]
          },
          "metadata": {},
          "execution_count": 312
        }
      ]
    },
    {
      "cell_type": "markdown",
      "source": [
        "XGBoost pipeline\n",
        "\n",
        "---\n",
        "\n"
      ],
      "metadata": {
        "id": "WVxkFMu824Jn"
      }
    },
    {
      "cell_type": "code",
      "source": [
        "p4=Pipeline([\n",
        "              (\"Std Scaler\", StandardScaler()),\n",
        "             (\"XGBoost\", xgb.XGBClassifier() ),\n",
        "             \n",
        "             ])"
      ],
      "metadata": {
        "id": "niQpfTXc1q3b"
      },
      "execution_count": 313,
      "outputs": []
    },
    {
      "cell_type": "code",
      "source": [
        "p4.fit(X_train, y_train)\n",
        "p4.score(X_test, y_test)"
      ],
      "metadata": {
        "colab": {
          "base_uri": "https://localhost:8080/"
        },
        "id": "4hGiTQUj1z6B",
        "outputId": "2766cc8f-988f-42df-af0d-85fcb71fafad"
      },
      "execution_count": 314,
      "outputs": [
        {
          "output_type": "execute_result",
          "data": {
            "text/plain": [
              "0.8632357570034623"
            ]
          },
          "metadata": {},
          "execution_count": 314
        }
      ]
    },
    {
      "cell_type": "code",
      "source": [
        "p4.fit(X_train_s, y_train_s)\n",
        "p4.score(X_test_s, y_test_s)"
      ],
      "metadata": {
        "colab": {
          "base_uri": "https://localhost:8080/"
        },
        "id": "vIkbsllMHKCn",
        "outputId": "c6186cac-459c-4e0b-a1c2-ae7ec48f2e02"
      },
      "execution_count": 315,
      "outputs": [
        {
          "output_type": "execute_result",
          "data": {
            "text/plain": [
              "0.8635505193578848"
            ]
          },
          "metadata": {},
          "execution_count": 315
        }
      ]
    },
    {
      "cell_type": "markdown",
      "source": [
        "Since feature selection didnt improve the pipe score we will use the normal dataset"
      ],
      "metadata": {
        "id": "VhUd5_7dIbLn"
      }
    },
    {
      "cell_type": "markdown",
      "source": [
        "KNN pipeline\n",
        "\n",
        "---\n",
        "\n"
      ],
      "metadata": {
        "id": "g3tYrAux27Jk"
      }
    },
    {
      "cell_type": "code",
      "source": [
        "p5=Pipeline([\n",
        "              (\"Std Scaler\", StandardScaler()),\n",
        "             (\"KNN\", KNeighborsClassifier() ),\n",
        "             \n",
        "             ])"
      ],
      "metadata": {
        "id": "DRNFKLAq2akX"
      },
      "execution_count": 316,
      "outputs": []
    },
    {
      "cell_type": "code",
      "source": [
        "p5.fit(X_train, y_train)\n",
        "p5.score(X_test, y_test)"
      ],
      "metadata": {
        "colab": {
          "base_uri": "https://localhost:8080/"
        },
        "id": "DljRO2_-2fXj",
        "outputId": "6be34e61-b264-4037-b655-a2cf23d89146"
      },
      "execution_count": 317,
      "outputs": [
        {
          "output_type": "execute_result",
          "data": {
            "text/plain": [
              "0.8279823733081524"
            ]
          },
          "metadata": {},
          "execution_count": 317
        }
      ]
    },
    {
      "cell_type": "markdown",
      "source": [
        "\n",
        "\n",
        "---\n",
        "\n",
        "\n",
        "Based on anlyzing the performance of the pipelines we have determined that the XGBoost+StandardScaler()+non-balanced data has the highest score.\n",
        "\n",
        "\n"
      ],
      "metadata": {
        "id": "py5gqkuz3AE9"
      }
    },
    {
      "cell_type": "code",
      "source": [
        "p4=Pipeline([\n",
        "              (\"Std Scaler\", StandardScaler()),\n",
        "             (\"XGBoost\", xgb.XGBClassifier() ),\n",
        "             \n",
        "             ])"
      ],
      "metadata": {
        "id": "Q9ZeXqUtIBFJ"
      },
      "execution_count": 318,
      "outputs": []
    },
    {
      "cell_type": "code",
      "source": [
        "p4.fit(X_train, y_train)\n",
        "p4.score(X_test, y_test)"
      ],
      "metadata": {
        "colab": {
          "base_uri": "https://localhost:8080/"
        },
        "id": "RvpUTmnwJZcv",
        "outputId": "a6a45164-3bd8-4f00-8145-e55568c87109"
      },
      "execution_count": 319,
      "outputs": [
        {
          "output_type": "execute_result",
          "data": {
            "text/plain": [
              "0.8632357570034623"
            ]
          },
          "metadata": {},
          "execution_count": 319
        }
      ]
    },
    {
      "cell_type": "markdown",
      "source": [
        "To determine the overall performance of the model i will use cross validation"
      ],
      "metadata": {
        "id": "Vakgn0FoMrWh"
      }
    },
    {
      "cell_type": "code",
      "source": [
        "from sklearn.model_selection import cross_val_score\n",
        "cross_val_score(p4, X, target, cv=5).mean()"
      ],
      "metadata": {
        "colab": {
          "base_uri": "https://localhost:8080/"
        },
        "id": "hr6MCGh3IBMI",
        "outputId": "1c6505b1-5664-48a7-a648-59f583938a3b"
      },
      "execution_count": 320,
      "outputs": [
        {
          "output_type": "execute_result",
          "data": {
            "text/plain": [
              "0.8637981921948944"
            ]
          },
          "metadata": {},
          "execution_count": 320
        }
      ]
    },
    {
      "cell_type": "markdown",
      "source": [
        "Plot the confusion matrix"
      ],
      "metadata": {
        "id": "4FoOJVFMM0ac"
      }
    },
    {
      "cell_type": "code",
      "source": [
        "y_preds=p4.predict(X_test)"
      ],
      "metadata": {
        "id": "aiML4hU1JSO9"
      },
      "execution_count": 321,
      "outputs": []
    },
    {
      "cell_type": "code",
      "source": [
        "from sklearn.metrics import plot_confusion_matrix"
      ],
      "metadata": {
        "id": "sX_RQn2tIzwv"
      },
      "execution_count": 322,
      "outputs": []
    },
    {
      "cell_type": "code",
      "source": [
        "color = 'black'\n",
        "matrix = plot_confusion_matrix(p4, X_test, y_test, cmap=plt.cm.Blues)\n",
        "matrix.ax_.set_title('Confusion Matrix', color=color)\n",
        "plt.xlabel('Predicted Label', color=color)\n",
        "plt.ylabel('True Label', color=color)\n",
        "plt.gcf().axes[0].tick_params(colors=color)\n",
        "plt.gcf().axes[1].tick_params(colors=color)\n",
        "plt.show()"
      ],
      "metadata": {
        "colab": {
          "base_uri": "https://localhost:8080/",
          "height": 295
        },
        "id": "66-YnvYjJlZc",
        "outputId": "3b6981bb-e1f0-4a20-ee66-6d3ae271d4d3"
      },
      "execution_count": 323,
      "outputs": [
        {
          "output_type": "display_data",
          "data": {
            "text/plain": [
              "<Figure size 432x288 with 2 Axes>"
            ],
            "image/png": "[encoded data removed]"
          },
          "metadata": {
            "needs_background": "light"
          }
        }
      ]
    },
    {
      "cell_type": "markdown",
      "source": [
        "#Thank you\n"
      ],
      "metadata": {
        "id": "6rGInYxTN1ch"
      }
    }
  ]
}